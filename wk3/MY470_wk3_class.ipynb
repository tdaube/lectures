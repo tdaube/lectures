{
 "cells": [
  {
   "cell_type": "markdown",
   "metadata": {
    "slideshow": {
     "slide_type": "slide"
    }
   },
   "source": [
    "### MY470 Computer Programming\n",
    "# For-Loops and List Comprehensions in Python\n",
    "### Week 3 Lab"
   ]
  },
  {
   "cell_type": "markdown",
   "metadata": {
    "slideshow": {
     "slide_type": "slide"
    }
   },
   "source": [
    "## Control Flow and Indentation"
   ]
  },
  {
   "cell_type": "markdown",
   "metadata": {
    "slideshow": {
     "slide_type": "-"
    }
   },
   "source": [
    "```\n",
    "for i in list: \n",
    "    # inside the for-loop\n",
    "    if something is TRUE:\n",
    "        # inside the if statement\n",
    "        do something\n",
    "    else:\n",
    "        # inside the else statement\n",
    "        do something\n",
    "    # inside the for-loop, but not in the if or else statement anymore\n",
    "    do something  \n",
    "# outside of the for-loop\n",
    "do something\n",
    "```"
   ]
  },
  {
   "cell_type": "code",
   "execution_count": 55,
   "metadata": {
    "slideshow": {
     "slide_type": "slide"
    }
   },
   "outputs": [
    {
     "name": "stdout",
     "output_type": "stream",
     "text": [
      "[1, 2, 'boo', 4, 5, 'boo', 7, 8, 'boo', 10, 11, 'boo', 13, 14, 'boo', 16, 17, 'boo', 19, 20, 'boo', 22, 23, 'boo', 25, 26, 'boo', 28, 29, 'boo', 31, 32, 'boo', 34, 35, 'boo', 37, 38, 'boo', 40, 41, 'boo', 43, 44, 'boo', 46, 47, 'boo', 49, 50, 'boo', 52, 53, 'boo', 55, 56, 'boo', 58, 59, 'boo', 61, 62, 'boo', 64, 65, 'boo', 67, 68, 'boo', 70, 71, 'boo', 73, 74, 'boo', 76, 77, 'boo', 79, 80, 'boo', 82, 83, 'boo', 85, 86, 'boo', 88, 89, 'boo', 91, 92, 'boo', 94, 95, 'boo', 97, 98, 'boo', 100]\n"
     ]
    }
   ],
   "source": [
    "# Exercise 1: Create a list that contains all integers from 1 to 100 (inclusive), \n",
    "# except that it has the string 'boo' for every integer that is divisible by 3 \n",
    "# Your list should look like: [1, 2, 'boo', 4, 5, 'boo', 7, 8, 'boo', 10, ...]\n",
    "\n",
    "ls = []\n",
    "for i in range(1,101):\n",
    "    if i % 3 == 0:\n",
    "        ls.append('boo')\n",
    "    else:\n",
    "        ls.append(i)\n",
    "print(ls)\n",
    "\n",
    "#list comprehension method\n",
    "lc = ['boo' if i%3==0 else i for i in range(1,101)]"
   ]
  },
  {
   "cell_type": "code",
   "execution_count": 179,
   "metadata": {
    "slideshow": {
     "slide_type": "-"
    }
   },
   "outputs": [
    {
     "name": "stdout",
     "output_type": "stream",
     "text": [
      "24\n"
     ]
    }
   ],
   "source": [
    "# Exercise 2: Sum the even integers from the list below.\n",
    "lst = [1, 3, 2, 4.5, 7, 8, 10, 3, 5, 4, 7, 3.33]\n",
    "\n",
    "result = 0\n",
    "for i in lst:\n",
    "    if i%2==0:\n",
    "        result += i\n",
    "result\n",
    "\n",
    "#list comprehension\n",
    "result2 = sum([i for i in lst if i%2==0])\n",
    "print(result2)"
   ]
  },
  {
   "cell_type": "markdown",
   "metadata": {
    "slideshow": {
     "slide_type": "slide"
    }
   },
   "source": [
    "## List Comprehensions\n",
    "\n",
    "Create a new list based on another one.\n",
    "\n",
    "With a for-loop: \n",
    "\n",
    "```\n",
    "newlst = []\n",
    "for i in lst:\n",
    "    if something is TRUE:\n",
    "        j = do something to i\n",
    "        newlst.append(j)\n",
    "```    \n",
    "\n",
    "With a list comprehension: \n",
    "\n",
    "```\n",
    "newlst = [do something to i for i in lst if something is TRUE] \n",
    "```"
   ]
  },
  {
   "cell_type": "code",
   "execution_count": 180,
   "metadata": {
    "slideshow": {
     "slide_type": "slide"
    }
   },
   "outputs": [
    {
     "name": "stdout",
     "output_type": "stream",
     "text": [
      "[1, 9, 4, 49, 64, 100, 9, 25, 16, 49]\n"
     ]
    }
   ],
   "source": [
    "# Exercise 3: Using a list comprehension, create a new list containing \n",
    "# the squares of the integers in the list below\n",
    "lst = [1, 3, 2, 4.5, 7, 8, 10, 3, 5, 4, 7, 3.33]\n",
    "newlst = [i ** 2 for i in lst if type(i)==int]\n",
    "print(newlst)"
   ]
  },
  {
   "cell_type": "code",
   "execution_count": 83,
   "metadata": {
    "slideshow": {
     "slide_type": "-"
    }
   },
   "outputs": [
    {
     "name": "stdout",
     "output_type": "stream",
     "text": [
      "[(0, 6), (1, 5), (2, 4), (3, 3)]\n"
     ]
    }
   ],
   "source": [
    "# Exercise 4: Consider the lists x and y below. Using a list comprehension,\n",
    "# create a list that contains all combinations of (elem_x, elem_y) \n",
    "# such that elem_x + elem_y = 6\n",
    "# Your answer should look as follows: [(0, 6), (1, 5), (2, 4), (3, 3)]\n",
    "x = [0, 1, 2, 3]\n",
    "y = [3, 4, 5, 6]\n",
    "\n",
    "list = []\n",
    "for elem_x in x:\n",
    "    for elem_y in y:\n",
    "        if elem_x + elem_y == 6:\n",
    "            list.append((elem_x,elem_y))\n",
    "#print(list)\n",
    "\n",
    "list = [(i, j) for i in x for j in y if i+j==6]\n",
    "print(list)"
   ]
  },
  {
   "cell_type": "code",
   "execution_count": 193,
   "metadata": {
    "slideshow": {
     "slide_type": "-"
    }
   },
   "outputs": [
    {
     "name": "stdout",
     "output_type": "stream",
     "text": [
      "[[0, 1, 2, 3], [1, 2, 3], [2, 3], [3]]\n",
      "[[0, 1, 2, 3], [1, 2, 3], [2, 3], [3]]\n"
     ]
    }
   ],
   "source": [
    "# Exercise 5: Using nested list comprehensions and range(), create a list \n",
    "# that looks as follows: [[0, 1, 2, 3], [1, 2, 3], [2, 3], [3]]\n",
    "\n",
    "print([[i for i in range(0,4)], [j for j in range(1,4)], [k for k in range(2,4)], [3]])\n",
    "\n",
    "ans = [[j for j in range(i,4)] for i in range(4)]\n",
    "print(ans)"
   ]
  },
  {
   "cell_type": "markdown",
   "metadata": {
    "slideshow": {
     "slide_type": "slide"
    }
   },
   "source": [
    "## Iterating over Dictionaries"
   ]
  },
  {
   "cell_type": "code",
   "execution_count": 32,
   "metadata": {
    "slideshow": {
     "slide_type": "-"
    }
   },
   "outputs": [
    {
     "name": "stdout",
     "output_type": "stream",
     "text": [
      "a\n",
      "b\n",
      "c\n",
      "\n",
      "apple\n",
      "beetle\n",
      "cat\n",
      "apple\n",
      "beetle\n",
      "cat\n",
      "\n",
      "('a', 'apple')\n",
      "('b', 'beetle')\n",
      "('c', 'cat')\n",
      "\n",
      "a : apple\n",
      "b : beetle\n",
      "c : cat\n"
     ]
    }
   ],
   "source": [
    "letters = {'a':'apple', 'b': 'beetle', 'c': 'cat'}\n",
    "\n",
    "for i in letters:  # equivalent to: for i in letters.keys():\n",
    "    print(i)\n",
    "\n",
    "print() # prints a new plain line\n",
    "for i in letters:\n",
    "    print(letters[i])\n",
    "# equivalent to:\n",
    "for i in letters.values(): \n",
    "    print(i)\n",
    "\n",
    "print()\n",
    "for i in letters.items(): \n",
    "    print(i)\n",
    "    \n",
    "print()\n",
    "for i, j in letters.items(): \n",
    "    print(i, \":\", j)\n",
    "    "
   ]
  },
  {
   "cell_type": "code",
   "execution_count": 181,
   "metadata": {
    "slideshow": {
     "slide_type": "slide"
    }
   },
   "outputs": [
    {
     "name": "stdout",
     "output_type": "stream",
     "text": [
      "{'a': [], 'b': [], 'c': [], 'd': []}\n"
     ]
    }
   ],
   "source": [
    "# Exercise 6: Using a dictionary comprehension, create a new dictionary that\n",
    "# contains the keys from dictionary letters that are strings, with the value for\n",
    "# each key assigned to be an empty list\n",
    "# The new dictionary should look as follows: {'a':[], 'b':[], 'c':[], 'd':[]}\n",
    "\n",
    "letters = {'a':'apple', 4: None, 'b': 'beetle', 'c': 'cat', 2: None, 'd': 'diamond'}\n",
    "\n",
    "print({i:[] for i in letters.keys() if str(i).isalpha()})\n",
    "#works both ways!!\n",
    "print({i:[] for i in letters.keys() if type(i)==str})\n"
   ]
  },
  {
   "cell_type": "code",
   "execution_count": 4,
   "metadata": {
    "slideshow": {
     "slide_type": "-"
    }
   },
   "outputs": [
    {
     "name": "stdout",
     "output_type": "stream",
     "text": [
      "{'a': ['a', 'an'], 'b': ['be', 'been'], 'c': ['can'], 'd': ['do', 'did'], 't': ['the', 'to']}\n"
     ]
    }
   ],
   "source": [
    "# Exercise 7: Now, distribute the words from the list below to the new dictionary\n",
    "# according to their first letter\n",
    "\n",
    "dic = {'a': [], 'b': [], 'c': [], 'd': []}\n",
    "wordlst = ['a', 'be', 'an', 'the', 'can', 'do', 'did', 'to', 'been']\n",
    "\n",
    "#print({(i,j) for i in dic for j in wordlst if i[0] in j[0]})\n",
    "\n",
    "for i in wordlst:\n",
    "    if i[0] not in dic:\n",
    "        dic[i[0]] = []\n",
    "    dic[i[0]].append(i)\n",
    "print(dic)"
   ]
  },
  {
   "cell_type": "markdown",
   "metadata": {
    "slideshow": {
     "slide_type": "slide"
    }
   },
   "source": [
    "## Best Practice: Beware of Iterating over Unordered Collections\n",
    "\n",
    "* (In Python 3.6 dictionaries are now implemented as ordered but you should not rely on this!)\n",
    "* For unordered collections, the ordering of elements is determined by how the elements are stored in memory\n"
   ]
  },
  {
   "cell_type": "code",
   "execution_count": 11,
   "metadata": {
    "slideshow": {
     "slide_type": "-"
    }
   },
   "outputs": [
    {
     "name": "stdout",
     "output_type": "stream",
     "text": [
      "List: [1, 2, 4, 8, 1, 2]\n",
      "Set: [8, 1, 2, 4]\n"
     ]
    }
   ],
   "source": [
    "lst = [1, 2, 4, 8, 1, 2]\n",
    "st = set(lst)\n",
    "\n",
    "print(\"List:\", [i for i in lst])    \n",
    "print(\"Set:\", [i for i in st]) \n"
   ]
  },
  {
   "cell_type": "markdown",
   "metadata": {
    "slideshow": {
     "slide_type": "slide"
    }
   },
   "source": [
    "## Best Practice: Avoid Mutating a List When Iterating over It\n"
   ]
  },
  {
   "cell_type": "code",
   "execution_count": 10,
   "metadata": {
    "slideshow": {
     "slide_type": "-"
    }
   },
   "outputs": [
    {
     "name": "stdout",
     "output_type": "stream",
     "text": [
      "0 [1, 2, 3, 4, 5, 6, 7, 8, 9]\n",
      "3 [1, 2, 4, 5, 6, 7, 8, 9]\n",
      "6 [1, 2, 4, 5, 7, 8, 9]\n",
      "8 [1, 2, 4, 5, 7, 9]\n"
     ]
    },
    {
     "ename": "IndexError",
     "evalue": "pop index out of range",
     "output_type": "error",
     "traceback": [
      "\u001b[0;31m---------------------------------------------------------------------------\u001b[0m",
      "\u001b[0;31mIndexError\u001b[0m                                Traceback (most recent call last)",
      "\u001b[0;32m<ipython-input-10-368f10c34dd9>\u001b[0m in \u001b[0;36m<module>\u001b[0;34m()\u001b[0m\n\u001b[1;32m      1\u001b[0m \u001b[0mlst\u001b[0m \u001b[0;34m=\u001b[0m \u001b[0;34m[\u001b[0m\u001b[0mi\u001b[0m \u001b[0;32mfor\u001b[0m \u001b[0mi\u001b[0m \u001b[0;32min\u001b[0m \u001b[0mrange\u001b[0m\u001b[0;34m(\u001b[0m\u001b[0;36m10\u001b[0m\u001b[0;34m)\u001b[0m\u001b[0;34m]\u001b[0m\u001b[0;34m\u001b[0m\u001b[0m\n\u001b[1;32m      2\u001b[0m \u001b[0;32mfor\u001b[0m \u001b[0mi\u001b[0m \u001b[0;32min\u001b[0m \u001b[0mlst\u001b[0m\u001b[0;34m:\u001b[0m\u001b[0;34m\u001b[0m\u001b[0m\n\u001b[0;32m----> 3\u001b[0;31m     \u001b[0mpopped\u001b[0m \u001b[0;34m=\u001b[0m \u001b[0mlst\u001b[0m\u001b[0;34m.\u001b[0m\u001b[0mpop\u001b[0m\u001b[0;34m(\u001b[0m\u001b[0mi\u001b[0m\u001b[0;34m)\u001b[0m\u001b[0;34m\u001b[0m\u001b[0m\n\u001b[0m\u001b[1;32m      4\u001b[0m     \u001b[0mprint\u001b[0m\u001b[0;34m(\u001b[0m\u001b[0mpopped\u001b[0m\u001b[0;34m,\u001b[0m \u001b[0mlst\u001b[0m\u001b[0;34m)\u001b[0m\u001b[0;34m\u001b[0m\u001b[0m\n",
      "\u001b[0;31mIndexError\u001b[0m: pop index out of range"
     ]
    }
   ],
   "source": [
    "lst = [i for i in range(10)]\n",
    "for i in lst:\n",
    "    popped = lst.pop(i)\n",
    "    print(popped, lst)\n"
   ]
  }
 ],
 "metadata": {
  "celltoolbar": "Slideshow",
  "kernelspec": {
   "display_name": "Python 3",
   "language": "python",
   "name": "python3"
  },
  "language_info": {
   "codemirror_mode": {
    "name": "ipython",
    "version": 3
   },
   "file_extension": ".py",
   "mimetype": "text/x-python",
   "name": "python",
   "nbconvert_exporter": "python",
   "pygments_lexer": "ipython3",
   "version": "3.7.4"
  }
 },
 "nbformat": 4,
 "nbformat_minor": 2
}
