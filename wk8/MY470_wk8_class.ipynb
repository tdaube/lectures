{
 "cells": [
  {
   "cell_type": "markdown",
   "metadata": {
    "slideshow": {
     "slide_type": "slide"
    }
   },
   "source": [
    "# Week 08: The R Language"
   ]
  },
  {
   "cell_type": "markdown",
   "metadata": {
    "slideshow": {
     "slide_type": "slide"
    }
   },
   "source": [
    "## R and Python\n",
    "\n",
    "Matlab, R and Python are the three languages that you will often hear talked about in Data Science. \n",
    "\n",
    "**Python**\n",
    "- General purpose language\n",
    "- Python is an object-oriented, high-level programming language (create classes)\n",
    "- Open source (free to use and develop)\n",
    "- Great for data structures and programming in general, it has a vast collection of libraries that you can use - but they can be tricky to install. \n",
    "\n",
    "**R**\n",
    "- Functional programming (uses functions)\n",
    "- Oriented to statistical analysis and data processing in small scale. \n",
    "- It has a very huge collection of packages to do almost anything you might imagine with data (they are easy to install).\n",
    "- As a general programming language it is much slower than python and the syntax is arguably not as clear."
   ]
  },
  {
   "cell_type": "markdown",
   "metadata": {
    "slideshow": {
     "slide_type": "slide"
    }
   },
   "source": [
    "### Python to R\n",
    "\n",
    "There are a lot of similarities between R and Python - but this can also be a common source of error.\n",
    "\n",
    "#### Assignment & Arithmatic Operators\n",
    "\n",
    "Python\n",
    "``` python\n",
    "# Assignment\n",
    "    a, b = 10,20\n",
    "# Power\n",
    "    a ** b\n",
    "# Remainder (Modulus)\n",
    "    a % b\n",
    "```\n",
    "R\n",
    "``` R\n",
    "# Assignment\n",
    "    a <- 10 ; b <- 20\n",
    "# Power\n",
    "    a ^ b\n",
    "# Remainder (Modulus)\n",
    "    a %% b\n",
    "```\n"
   ]
  },
  {
   "cell_type": "markdown",
   "metadata": {
    "slideshow": {
     "slide_type": "slide"
    }
   },
   "source": [
    "#### Logical Operators\n",
    "\n",
    "An Element-wise or simple logical operator will consider a enitre object whereas a Short-circuit operator stops as soon as it evaluates a test that produces a specified result. \n",
    "\n",
    "For short circuit \"and\" no tests are evaluated after the first \"false\". \n",
    "\n",
    "For short circuit \"or\" no tests are evaluated after the first true.\n",
    "\n",
    "Python\n",
    "``` python\n",
    "# Short-circuit AND\n",
    "    a and b\n",
    "# Short-circuit OR\n",
    "    a or b\n",
    "# Element-wise AND\n",
    "    a and b\n",
    "# Element-wise OR\n",
    "    a or b\n",
    "```\n",
    "R\n",
    "``` R\n",
    "# Short-circuit AND\n",
    "    a && b\n",
    "# Short-circuit OR\n",
    "    a || b\n",
    "# Element-wise AND\n",
    "    a & b\n",
    "# Element-wise OR\n",
    "    a | b\n",
    "```"
   ]
  },
  {
   "cell_type": "markdown",
   "metadata": {
    "slideshow": {
     "slide_type": "slide"
    }
   },
   "source": [
    "#### Sequences\n",
    "\n",
    "Python\n",
    "``` python\n",
    "# 1, 2, [...] 10\n",
    "    range(1,11)\n",
    "# List of numeric type\n",
    "    x = [2, 3, 0, 6]\n",
    "# Updating at a index\n",
    "    x[i] = 5\n",
    "\n",
    "```\n",
    "R\n",
    "``` R\n",
    "# 1, 2, [...] 10\n",
    "    seq(10)\n",
    "    1:10\n",
    "# List of numeric type\n",
    "    x <- c(1, 2.0, 4, 5)\n",
    "# Updating at a index\n",
    "    x[i] <- 5\n",
    "```"
   ]
  },
  {
   "cell_type": "markdown",
   "metadata": {
    "slideshow": {
     "slide_type": "slide"
    }
   },
   "source": [
    "#### Concatinate \n",
    "\n",
    "```c()``` is a generic function which combines its arguments.\n",
    "\n",
    "By default it combines its arguments to form a vector.\n",
    "``` R\n",
    "c(1, 2, 3, 4, 5)\n",
    "```\n",
    "All arguments are coerced (forced) to a common type which is the type of the returned value. \n",
    "``` R\n",
    "x <- c(1 , 2, 3, \"four\")\n",
    "\n",
    "> print(x)\n",
    "# Output\n",
    "\"1\", \"2\", \"3\", \"four\"\n",
    "\n",
    "typeof(x)\n",
    "# Output\n",
    "\"character\"\n",
    "```\n",
    "\n",
    "All attributes (labeled values you can attach to a object) except names (labels) are removed.\n",
    "\n",
    "Note that numbers are stored as doubles (floats) by default in R. If you want to save a number as a integer, you need to use the suffix ```L```. This is shown below.\n",
    "\n",
    "``` R\n",
    "x <- c(1L, 2L, 3L)\n",
    "```"
   ]
  },
  {
   "cell_type": "markdown",
   "metadata": {
    "slideshow": {
     "slide_type": "slide"
    }
   },
   "source": [
    "### Indexing\n",
    "\n",
    "#### Question\n",
    "\n",
    "Say I'm working on a problem that involves the list of numbers years\n",
    "```\n",
    "1993, 1994, 1995, 1996, 1997, 1998, 1999, 2000\n",
    "```\n",
    "I save a list of these dates in the variable ```dates_list```.\n",
    "\n",
    "\n",
    "\n",
    "- **Q1.** In Python, what date would I get if I ran ```dates_list[2]```\n",
    "\n",
    "- **Q2.** What would I get in R for ```dates_list[2]```?"
   ]
  },
  {
   "cell_type": "code",
   "execution_count": 22,
   "metadata": {
    "slideshow": {
     "slide_type": "slide"
    }
   },
   "outputs": [],
   "source": [
    "# Lists in R are simular to Dictionaries in Python\n",
    "\n",
    "\n",
    "x <- c(1, 2, 3, 4, 5)\n",
    "\n",
    "num_list <- list(one = x,\n",
    "                 two = c(\"one\", \"two\", \"three\"),\n",
    "                 three = matrix(data = 1:6, nrow = 3, ncol = 3))\n",
    "\n",
    "# NOTE: Matrix() creates a matrix (table) from a given set of values"
   ]
  },
  {
   "cell_type": "code",
   "execution_count": 23,
   "metadata": {
    "slideshow": {
     "slide_type": "subslide"
    }
   },
   "outputs": [
    {
     "name": "stdout",
     "output_type": "stream",
     "text": [
      "$one\n",
      "[1] 1 2 3 4 5\n",
      "\n",
      "$two\n",
      "[1] \"one\"   \"two\"   \"three\"\n",
      "\n",
      "$three\n",
      "     [,1] [,2] [,3]\n",
      "[1,]    1    4    1\n",
      "[2,]    2    5    2\n",
      "[3,]    3    6    3\n",
      "\n"
     ]
    }
   ],
   "source": [
    "print(num_list)"
   ]
  },
  {
   "cell_type": "markdown",
   "metadata": {
    "slideshow": {
     "slide_type": "slide"
    }
   },
   "source": [
    "### Indexing"
   ]
  },
  {
   "cell_type": "code",
   "execution_count": 24,
   "metadata": {
    "slideshow": {
     "slide_type": "subslide"
    }
   },
   "outputs": [
    {
     "name": "stdout",
     "output_type": "stream",
     "text": [
      "$two\n",
      "[1] \"one\"   \"two\"   \"three\"\n",
      "\n",
      "[1] \"list\"\n",
      "[1] \"matrix\"\n"
     ]
    },
    {
     "data": {
      "text/html": [
       "<ol class=list-inline>\n",
       "\t<li>'one'</li>\n",
       "\t<li>'two'</li>\n",
       "\t<li>'three'</li>\n",
       "</ol>\n"
      ],
      "text/latex": [
       "\\begin{enumerate*}\n",
       "\\item 'one'\n",
       "\\item 'two'\n",
       "\\item 'three'\n",
       "\\end{enumerate*}\n"
      ],
      "text/markdown": [
       "1. 'one'\n",
       "2. 'two'\n",
       "3. 'three'\n",
       "\n",
       "\n"
      ],
      "text/plain": [
       "[1] \"one\"   \"two\"   \"three\""
      ]
     },
     "metadata": {},
     "output_type": "display_data"
    }
   ],
   "source": [
    "# We can index a list\n",
    "print(num_list[\"two\"])\n",
    "\n",
    "# We can access data inside a list element by combining double and single brackets. \n",
    "# By using the double brackets, the list structure is dropped.\n",
    "print(class(num_list[\"three\"]))\n",
    "print(class(num_list[[\"three\"]]))\n",
    "\n",
    "# We can also index specific elements with $\n",
    "num_list$two"
   ]
  },
  {
   "cell_type": "markdown",
   "metadata": {
    "slideshow": {
     "slide_type": "slide"
    }
   },
   "source": [
    "### Dataframes"
   ]
  },
  {
   "cell_type": "code",
   "execution_count": 25,
   "metadata": {
    "slideshow": {
     "slide_type": "subslide"
    }
   },
   "outputs": [
    {
     "name": "stdout",
     "output_type": "stream",
     "text": [
      "  title     fname favenum     lname\n",
      "1    Dr      Sian      13    Brooke\n",
      "2  Prof    Milena      99 Ttvetkova\n",
      "3  Prof Friedrich     144    Geicke\n"
     ]
    }
   ],
   "source": [
    "my_dataframe <- data.frame(title = c(\"Dr\", \"Prof\", \"Prof\"),\n",
    "                         fname = c(\"Sian\", \"Milena\", \"Friedrich\"),\n",
    "                         favenum = c(13 , 99, 144))\n",
    "\n",
    "my_dataframe$lname <- c(\"Brooke\", \"Ttvetkova\", \"Geicke\") \n",
    "\n",
    "print(my_dataframe)"
   ]
  },
  {
   "cell_type": "markdown",
   "metadata": {
    "slideshow": {
     "slide_type": "slide"
    }
   },
   "source": [
    "### Control Flow"
   ]
  },
  {
   "cell_type": "code",
   "execution_count": null,
   "metadata": {
    "slideshow": {
     "slide_type": "subslide"
    }
   },
   "outputs": [],
   "source": []
  },
  {
   "cell_type": "code",
   "execution_count": 26,
   "metadata": {
    "slideshow": {
     "slide_type": "slide"
    }
   },
   "outputs": [
    {
     "name": "stdout",
     "output_type": "stream",
     "text": [
      "[1] \"x is smaller than y!\"\n"
     ]
    }
   ],
   "source": [
    "x <- 5\n",
    "y <- 10\n",
    "\n",
    "# Indentation is not strictly necessary, but preferred for readability. \n",
    "\n",
    "# The if code block is in rounded brackets\n",
    "if (x < y) {\n",
    "    print(\"x is smaller than y!\")\n",
    "    # the else if code block is also in rounded brackets\n",
    "}   else if (y < x) {\n",
    "    print(\"y is smaller than x!\")\n",
    "}   else {\n",
    "    print(\"no number is smaller\")\n",
    "} # the code in the curly brackets will be ran if the conditional statement is triggered.\n",
    "\n"
   ]
  },
  {
   "cell_type": "code",
   "execution_count": 27,
   "metadata": {
    "slideshow": {
     "slide_type": "slide"
    }
   },
   "outputs": [
    {
     "name": "stdout",
     "output_type": "stream",
     "text": [
      "[1] \"this\"\n",
      "[1] \"is\"\n",
      "[1] \"how\"\n",
      "[1] \"a\"\n",
      "[1] \"for\"\n",
      "[1] \"loop\"\n",
      "[1] \"works\"\n",
      "[1] 5\n",
      "[1] 6\n",
      "[1] 7\n",
      "[1] 8\n",
      "[1] 9\n"
     ]
    }
   ],
   "source": [
    "# For and while loops work pretty much the same way.\n",
    "\n",
    "chr_vec <- c(\"this\", \"is\", \"how\", \"a\", \"for\", \"loop\", \"works\")\n",
    "x <- 5\n",
    "\n",
    "# For loop\n",
    "for (txt in chr_vec){\n",
    "    print(txt)\n",
    "}\n",
    "\n",
    "# While loop\n",
    "while (x < 10){\n",
    "    print(x)\n",
    "    x <- x + 1\n",
    "}"
   ]
  },
  {
   "cell_type": "code",
   "execution_count": 28,
   "metadata": {
    "slideshow": {
     "slide_type": "slide"
    }
   },
   "outputs": [
    {
     "name": "stdout",
     "output_type": "stream",
     "text": [
      "[1] 1\n",
      "[1] \"this\"\n",
      "[1] 2\n",
      "[1] \"is\"\n",
      "[1] 3\n",
      "[1] \"how\"\n",
      "[1] 4\n",
      "[1] \"a\"\n",
      "[1] 5\n",
      "[1] \"for\"\n",
      "[1] 6\n",
      "[1] \"loop\"\n",
      "[1] 7\n",
      "[1] \"works\"\n"
     ]
    }
   ],
   "source": [
    "# Simular to range() in python ...\n",
    "\n",
    "for (i in 1:length(chr_vec)) { # for i in range(0, len(chr_vec))\n",
    "    print(i)\n",
    "    print(chr_vec[i])\n",
    "}"
   ]
  },
  {
   "cell_type": "markdown",
   "metadata": {
    "slideshow": {
     "slide_type": "slide"
    }
   },
   "source": [
    "### Functions"
   ]
  },
  {
   "cell_type": "code",
   "execution_count": 29,
   "metadata": {
    "slideshow": {
     "slide_type": "subslide"
    }
   },
   "outputs": [
    {
     "name": "stdout",
     "output_type": "stream",
     "text": [
      "[1] \"Hooray! The room is big enough\"\n",
      "[1] \"Oh no, the room is too small\"\n"
     ]
    }
   ],
   "source": [
    "# Functions also make use of different brackets\n",
    "\n",
    "class_fits <- function(num_teachers = 1, num_students, room_size) {\n",
    "    if ((num_teachers + num_students) < room_size) {\n",
    "        print(\"Hooray! The room is big enough\")\n",
    "    } else {\n",
    "        print(\"Oh no, the room is too small\") }\n",
    "    }\n",
    "\n",
    "# Can we write this funtion in Python?\n",
    "\n",
    "# We can supply a value for each arguement\n",
    "class_fits(2, 13, 18)\n",
    "\n",
    "# Becuase we supplied a default for teachers ...\n",
    "class_fits(num_students = 18, room_size = 19)\n",
    "\n",
    "# Like python, punctions still have a local name scope."
   ]
  },
  {
   "cell_type": "markdown",
   "metadata": {
    "slideshow": {
     "slide_type": "slide"
    }
   },
   "source": [
    "### Pipe Operator"
   ]
  },
  {
   "cell_type": "code",
   "execution_count": 3,
   "metadata": {
    "slideshow": {
     "slide_type": "subslide"
    }
   },
   "outputs": [
    {
     "data": {
      "text/html": [
       "<ol class=list-inline>\n",
       "\t<li>0.3</li>\n",
       "\t<li>0.2</li>\n",
       "\t<li>0.3</li>\n",
       "\t<li>1</li>\n",
       "\t<li>1</li>\n",
       "\t<li>1</li>\n",
       "\t<li>0.1</li>\n",
       "</ol>\n"
      ],
      "text/latex": [
       "\\begin{enumerate*}\n",
       "\\item 0.3\n",
       "\\item 0.2\n",
       "\\item 0.3\n",
       "\\item 1\n",
       "\\item 1\n",
       "\\item 1\n",
       "\\item 0.1\n",
       "\\end{enumerate*}\n"
      ],
      "text/markdown": [
       "1. 0.3\n",
       "2. 0.2\n",
       "3. 0.3\n",
       "4. 1\n",
       "5. 1\n",
       "6. 1\n",
       "7. 0.1\n",
       "\n",
       "\n"
      ],
      "text/plain": [
       "[1] 0.3 0.2 0.3 1.0 1.0 1.0 0.1"
      ]
     },
     "metadata": {},
     "output_type": "display_data"
    },
    {
     "data": {
      "text/html": [
       "<ol class=list-inline>\n",
       "\t<li>0.3</li>\n",
       "\t<li>0.2</li>\n",
       "\t<li>0.3</li>\n",
       "\t<li>1</li>\n",
       "\t<li>1</li>\n",
       "\t<li>1</li>\n",
       "\t<li>0.1</li>\n",
       "</ol>\n"
      ],
      "text/latex": [
       "\\begin{enumerate*}\n",
       "\\item 0.3\n",
       "\\item 0.2\n",
       "\\item 0.3\n",
       "\\item 1\n",
       "\\item 1\n",
       "\\item 1\n",
       "\\item 0.1\n",
       "\\end{enumerate*}\n"
      ],
      "text/markdown": [
       "1. 0.3\n",
       "2. 0.2\n",
       "3. 0.3\n",
       "4. 1\n",
       "5. 1\n",
       "6. 1\n",
       "7. 0.1\n",
       "\n",
       "\n"
      ],
      "text/plain": [
       "[1] 0.3 0.2 0.3 1.0 1.0 1.0 0.1"
      ]
     },
     "metadata": {},
     "output_type": "display_data"
    }
   ],
   "source": [
    "library(tidyverse)\n",
    "\n",
    "# You might have noticed that you code in R often contains a lot of parenthesis. \n",
    "# When you have complex code, this will often mean that you will have to nest\n",
    "# those parentheses together. This makes you R code hard to read and understand.\n",
    "# The pipe operator is for this exact purpose.\n",
    "\n",
    "x <- c(0.322, 0.237, 0.342, 0.983, 0.987 , 0.991, 0.129)\n",
    "\n",
    "# Compute the logarithm of x, compute the exponential function, round the result\n",
    "round(exp(log(x)), 1)\n",
    "\n",
    "# with pipe this is:\n",
    "x %>% log() %>%\n",
    "    exp() %>%\n",
    "    round(1)\n",
    "\n",
    "# NOTE: you don't need to include the brackets (i.e. log()) here,\n",
    "# but doing so increases the legibility of your code."
   ]
  },
  {
   "cell_type": "markdown",
   "metadata": {
    "slideshow": {
     "slide_type": "slide"
    }
   },
   "source": [
    "###  Recap: Terminology in R\n",
    "\n",
    "**Vector**\n",
    "-  Sequence of data elements of the same basic type.\n",
    "- An vector is either logical , integer , numeric , complex , character or raw and can have any attributes except a dimension attribute. \n",
    "- A **vectorised operation** refers to a the ability to do single mathematical operation on a list -- or \"vector\" -- of numbers in a single step.\n",
    "\n",
    "**Lists**\n",
    "- Closest in python is a Dictionary\n",
    "- Has a key, value structure\n",
    "\n",
    "**Matrix**\n",
    "- Arranges data from a vector into a table. \n",
    "- Data has to be the same type.\n",
    "\n",
    "**Data Frame**\n",
    "- A matrix-like R object in which the columns can be different types (numeric, character, logical etc.).\n",
    "\n",
    "**Factors**\n",
    "- Used to represent categorical data. \n",
    "- Can be ordered or unordered and are an important class for statistical analysis and for plotting.\n",
    "\n",
    "**Dot Product**\n",
    "- The dot product is an algebraic operation that takes two equal-length sequences of numbers, and returns a single number."
   ]
  },
  {
   "attachments": {
    "dot_product.jpg": {
     "image/jpeg": "[encoded data removed]"
    }
   },
   "cell_type": "markdown",
   "metadata": {
    "slideshow": {
     "slide_type": "slide"
    }
   },
   "source": [
    "![dot_product.jpg](attachment:dot_product.jpg)"
   ]
  },
  {
   "cell_type": "markdown",
   "metadata": {
    "slideshow": {
     "slide_type": "slide"
    }
   },
   "source": [
    "## Your Turn!\n",
    "\n",
    "Open up RStudio and have a go! These files can be found the lectures repo. \n",
    "\n",
    "If you are new to R, start with **01-rmarkdown**.\n",
    "\n",
    "If you have been taking MY472 (Applied Regression) or have worked with R before, go straight to **02-exercises**\n",
    "\n",
    "If you finish all that, feel free to get started on the assignment for this week.\n"
   ]
  },
  {
   "cell_type": "code",
   "execution_count": null,
   "metadata": {
    "slideshow": {
     "slide_type": "slide"
    }
   },
   "outputs": [],
   "source": [
    "# Exercise 1A.\n",
    "\n",
    "# This code creates a vector `vector_of_squares` which contains the squared\n",
    "# elements of the vector x\n",
    "\n",
    "# Loading the relevant package to use the `address()` function\n",
    "library(____)\n",
    "\n",
    "# Creating an exemplary vector with 10 elements\n",
    "x <- ____\n",
    "\n",
    "# Creating an empty vector with correct final length\n",
    "vector_of_squares <- numeric(length(x))\n",
    "  \n",
    "for (i in 1:length(x)) {\n",
    "  \n",
    "  # Replacing the relevant element of the empty vector with the associated square\n",
    "  vector_of_squares[i] <- x[i]*x[____]\n",
    "  \n",
    "  # Printing out the memory address of the vector\n",
    "  print(address(vector_of_squares))\n",
    "}\n",
    "\n",
    "vector_of_squares\n"
   ]
  },
  {
   "cell_type": "code",
   "execution_count": 32,
   "metadata": {
    "slideshow": {
     "slide_type": "slide"
    }
   },
   "outputs": [
    {
     "name": "stdout",
     "output_type": "stream",
     "text": [
      "[1] \"0x61fe5e8\"\n",
      "[1] \"0x61fe5e8\"\n",
      "[1] \"0x61fe5e8\"\n",
      "[1] \"0x61fe5e8\"\n",
      "[1] \"0x61fe5e8\"\n",
      "[1] \"0x61fe5e8\"\n",
      "[1] \"0x61fe5e8\"\n",
      "[1] \"0x61fe5e8\"\n",
      "[1] \"0x61fe5e8\"\n",
      "[1] \"0x61fe5e8\"\n"
     ]
    },
    {
     "data": {
      "text/html": [
       "<ol class=list-inline>\n",
       "\t<li>1</li>\n",
       "\t<li>4</li>\n",
       "\t<li>9</li>\n",
       "\t<li>16</li>\n",
       "\t<li>25</li>\n",
       "\t<li>36</li>\n",
       "\t<li>49</li>\n",
       "\t<li>64</li>\n",
       "\t<li>81</li>\n",
       "\t<li>100</li>\n",
       "</ol>\n"
      ],
      "text/latex": [
       "\\begin{enumerate*}\n",
       "\\item 1\n",
       "\\item 4\n",
       "\\item 9\n",
       "\\item 16\n",
       "\\item 25\n",
       "\\item 36\n",
       "\\item 49\n",
       "\\item 64\n",
       "\\item 81\n",
       "\\item 100\n",
       "\\end{enumerate*}\n"
      ],
      "text/markdown": [
       "1. 1\n",
       "2. 4\n",
       "3. 9\n",
       "4. 16\n",
       "5. 25\n",
       "6. 36\n",
       "7. 49\n",
       "8. 64\n",
       "9. 81\n",
       "10. 100\n",
       "\n",
       "\n"
      ],
      "text/plain": [
       " [1]   1   4   9  16  25  36  49  64  81 100"
      ]
     },
     "metadata": {},
     "output_type": "display_data"
    }
   ],
   "source": [
    "# Exercise 1A. ANSWERS\n",
    "\n",
    "library(pryr)\n",
    "\n",
    "# This code also creates a vector `vector_of_squares` which contains the squared\n",
    "# elements of the vector x\n",
    "\n",
    "# Creating an exemplary vector with 10 elements\n",
    "x <- 1:10\n",
    "\n",
    "# Creating an empty vector with correct final length\n",
    "vector_of_squares <- numeric(length(x)) # or with zero length <- c()\n",
    "  \n",
    "for (i in 1:length(x)) {\n",
    "  \n",
    "  # Replacing the relevant element of the empty vector\n",
    "  vector_of_squares[i] <- x[i]*x[i]\n",
    "  \n",
    "  print(address(vector_of_squares))\n",
    "}\n",
    "\n",
    "vector_of_squares"
   ]
  },
  {
   "cell_type": "code",
   "execution_count": null,
   "metadata": {},
   "outputs": [],
   "source": [
    "# Exercise 1B.\n",
    "\n",
    "# Creating an empty vector with length zero\n",
    "vector_of_squares <- numeric(0)\n",
    "\n",
    "for (i in 1:length(x)) {\n",
    "  \n",
    "  # Appending every new element to the vector which implicitly creates a copy\n",
    "  vector_of_squares <- append(____, x[i]*x[____])\n",
    "  \n",
    "  # Printing out the memory address of the vector\n",
    "  print(address(vector_of_squares))\n",
    "}\n",
    "\n",
    "vector_of_squares"
   ]
  },
  {
   "cell_type": "code",
   "execution_count": 33,
   "metadata": {},
   "outputs": [
    {
     "name": "stdout",
     "output_type": "stream",
     "text": [
      "[1] \"0x3f7d2600\"\n",
      "[1] \"0x6c85da8\"\n",
      "[1] \"0x6db3118\"\n",
      "[1] \"0x6db3028\"\n",
      "[1] \"0x8c73dc8\"\n",
      "[1] \"0x8c78f48\"\n",
      "[1] \"0x8c78d88\"\n",
      "[1] \"0x8c78ae8\"\n",
      "[1] \"0x8db1fd0\"\n",
      "[1] \"0x8db1d10\"\n"
     ]
    },
    {
     "data": {
      "text/html": [
       "<ol class=list-inline>\n",
       "\t<li>1</li>\n",
       "\t<li>4</li>\n",
       "\t<li>9</li>\n",
       "\t<li>16</li>\n",
       "\t<li>25</li>\n",
       "\t<li>36</li>\n",
       "\t<li>49</li>\n",
       "\t<li>64</li>\n",
       "\t<li>81</li>\n",
       "\t<li>100</li>\n",
       "</ol>\n"
      ],
      "text/latex": [
       "\\begin{enumerate*}\n",
       "\\item 1\n",
       "\\item 4\n",
       "\\item 9\n",
       "\\item 16\n",
       "\\item 25\n",
       "\\item 36\n",
       "\\item 49\n",
       "\\item 64\n",
       "\\item 81\n",
       "\\item 100\n",
       "\\end{enumerate*}\n"
      ],
      "text/markdown": [
       "1. 1\n",
       "2. 4\n",
       "3. 9\n",
       "4. 16\n",
       "5. 25\n",
       "6. 36\n",
       "7. 49\n",
       "8. 64\n",
       "9. 81\n",
       "10. 100\n",
       "\n",
       "\n"
      ],
      "text/plain": [
       " [1]   1   4   9  16  25  36  49  64  81 100"
      ]
     },
     "metadata": {},
     "output_type": "display_data"
    }
   ],
   "source": [
    "# Exercise 1B. ANSWERS\n",
    "\n",
    "# This code also creates a vector `vector_of_squares` which contains the squared\n",
    "# elements of the vector x\n",
    "\n",
    "# Creating an empty vector with length zero\n",
    "vector_of_squares <- numeric(0)\n",
    "for (i in 1:length(x)) {\n",
    "  \n",
    "  # Appending every new element to the vector which implicitly creates a copy\n",
    "  vector_of_squares <- append(vector_of_squares, x[i]*x[i])\n",
    "  \n",
    "  # Printing out the memory address of the vector\n",
    "  print(address(vector_of_squares))\n",
    "}\n",
    "vector_of_squares"
   ]
  },
  {
   "cell_type": "markdown",
   "metadata": {},
   "source": [
    "## Functions"
   ]
  },
  {
   "cell_type": "code",
   "execution_count": 34,
   "metadata": {
    "slideshow": {
     "slide_type": "slide"
    }
   },
   "outputs": [
    {
     "data": {
      "text/html": [
       "<ol class=list-inline>\n",
       "\t<li>6</li>\n",
       "\t<li>7</li>\n",
       "\t<li>10</li>\n",
       "</ol>\n"
      ],
      "text/latex": [
       "\\begin{enumerate*}\n",
       "\\item 6\n",
       "\\item 7\n",
       "\\item 10\n",
       "\\end{enumerate*}\n"
      ],
      "text/markdown": [
       "1. 6\n",
       "2. 7\n",
       "3. 10\n",
       "\n",
       "\n"
      ],
      "text/plain": [
       "[1]  6  7 10"
      ]
     },
     "metadata": {},
     "output_type": "display_data"
    },
    {
     "data": {
      "text/html": [
       "<ol class=list-inline>\n",
       "\t<li>6</li>\n",
       "\t<li>7</li>\n",
       "\t<li>10</li>\n",
       "</ol>\n"
      ],
      "text/latex": [
       "\\begin{enumerate*}\n",
       "\\item 6\n",
       "\\item 7\n",
       "\\item 10\n",
       "\\end{enumerate*}\n"
      ],
      "text/markdown": [
       "1. 6\n",
       "2. 7\n",
       "3. 10\n",
       "\n",
       "\n"
      ],
      "text/plain": [
       "[1]  6  7 10"
      ]
     },
     "metadata": {},
     "output_type": "display_data"
    }
   ],
   "source": [
    "# HINT: Function\n",
    "\n",
    "# User defined function\n",
    "\n",
    "some_vector <- c(1,2,5)\n",
    "my_function <- function(x) {\n",
    "  x + 5\n",
    "}\n",
    "# `sapply` applies a function to every element of a vector\n",
    "sapply(some_vector, my_function)\n",
    "\n",
    "# .Anonymous functions\n",
    "\n",
    "vector_of_squares <- c(1,2,5)\n",
    "# The anonymous function works as well and does not require you to define a\n",
    "# separate function\n",
    "sapply(some_vector, function(y) y + 5)"
   ]
  },
  {
   "cell_type": "code",
   "execution_count": null,
   "metadata": {
    "slideshow": {
     "slide_type": "slide"
    }
   },
   "outputs": [],
   "source": [
    "# Exercise 2. Vector functions\n",
    "\n",
    "vector_length_a <- function(x) {\n",
    "\n",
    "  #\n",
    "  # This function computes the vector length with a loop, modifying the\n",
    "  # vector in the same memory location\n",
    "  #\n",
    "  \n",
    "  # Creating an empty vector with correct final length\n",
    "  vector_of_squares <- numeric(length(____))\n",
    "  \n",
    "  # Filling out the vector\n",
    "  for (i in 1:length(x)) {\n",
    "    \n",
    "    vector_of_squares[i] <- x[i]*x[i]\n",
    "    \n",
    "  }\n",
    "  \n",
    "  # Obtaining the dot product\n",
    "  dot_product <- sum(____)\n",
    "  \n",
    "  # Obtaining the final vector length\n",
    "  vector_length <- sqrt(____)\n",
    "  \n",
    "  return(vector_length)\n",
    "  \n",
    "}\n",
    "\n",
    "\n",
    "vector_length_b <- function(x) {\n",
    "\n",
    "  #\n",
    "  # This function computes the vector length with a loop, however, the\n",
    "  # code creates copies of the vector implicitly\n",
    "  #\n",
    "  \n",
    "  # Creating an empty vector of length zero\n",
    "  vector_of_squares <- numeric(0)\n",
    "  \n",
    "  # Filling out the vector\n",
    "  for (i in 1:length(x)) {\n",
    "    \n",
    "    ____ <- append(____, x[i]*x[i])\n",
    "    \n",
    "  }\n",
    "  \n",
    "  # Obtaining the dot product\n",
    "  dot_product <- sum(____)\n",
    "  \n",
    "  # Obtaining the final vector length\n",
    "  vector_length <- sqrt(____)\n",
    "  \n",
    "  return(vector_length)\n",
    "  \n",
    "}\n",
    "  \n",
    "\n",
    "  \n",
    "vector_length_c <- function(x) {\n",
    "  \n",
    "  #\n",
    "  # This function uses an apply approach to avoid writing the for loop\n",
    "  # explicitly\n",
    "  #\n",
    "  \n",
    "  # Using sapply and an anonymous function to compute the vector of squares\n",
    "  vector_of_squares <- sapply(x, ____)\n",
    "  \n",
    "  # Obtaining the dot product\n",
    "  dot_product <- sum(____)\n",
    "  \n",
    "  # Obtaining the final vector length\n",
    "  vector_length <- sqrt(____)\n",
    "  \n",
    "  return(vector_length)\n",
    "\n",
    "}\n",
    "\n",
    "vector_length_d <- function(x) {\n",
    "  \n",
    "  #\n",
    "  # This function uses the operator for matrix multiplication in R\n",
    "  #\n",
    "  \n",
    "  dot_product <- x____x\n",
    "  vector_length <- sqrt(dot_product[1,1])\n",
    "  \n",
    "  return(vector_length)\n",
    "\n",
    "}\n",
    "\n",
    "vector_length_e <- function(x) {\n",
    "  \n",
    "  #\n",
    "  # This function uses element wise multiplication\n",
    "  #\n",
    "  \n",
    "  dot_product <- sum(x____x)\n",
    "  vector_length <- sqrt(dot_product)\n",
    "  \n",
    "  return(vector_length)\n"
   ]
  },
  {
   "cell_type": "code",
   "execution_count": 35,
   "metadata": {},
   "outputs": [],
   "source": [
    "# Exercise 2. Vector functions - Answers\n",
    "\n",
    "\n",
    "vector_length_a <- function(x) {\n",
    "  #\n",
    "  # This function computes the vector length with a loop, modifying the\n",
    "  # vector in the same memory location\n",
    "  #\n",
    "  \n",
    "  # Creating an empty vector with correct final length\n",
    "  vector_of_squares <- numeric(length(x))\n",
    "  \n",
    "  # Filling out the vector\n",
    "  for (i in 1:length(x)) {\n",
    "    \n",
    "    vector_of_squares[i] <- x[i]*x[i]\n",
    "    \n",
    "  }\n",
    "  \n",
    "  # Obtaining the dot product\n",
    "  dot_product <- sum(vector_of_squares)\n",
    "  \n",
    "  # Obtaining the final vector length\n",
    "  vector_length <- sqrt(dot_product)\n",
    "  \n",
    "  return(vector_length)\n",
    "  \n",
    "}\n",
    "vector_length_b <- function(x) {\n",
    "  #\n",
    "  # This function computes the vector length with a loop, however, the\n",
    "  # code creates copies of the vector implicitly\n",
    "  #\n",
    "  \n",
    "  # Creating an empty vector of length zero\n",
    "  vector_of_squares <- numeric(0)\n",
    "  \n",
    "  # Filling out the vector\n",
    "  for (i in 1:length(x)) {\n",
    "    \n",
    "    vector_of_squares <- append(vector_of_squares, x[i]*x[i])\n",
    "    \n",
    "  }\n",
    "  \n",
    "  # Obtaining the dot product\n",
    "  dot_product <- sum(vector_of_squares)\n",
    "  \n",
    "  # Obtaining the final vector length\n",
    "  vector_length <- sqrt(dot_product)\n",
    "  \n",
    "  return(vector_length)\n",
    "  \n",
    "}\n",
    "  \n",
    "  \n",
    "vector_length_c <- function(x) {\n",
    "  \n",
    "  #\n",
    "  # This function uses an apply approach to avoid writing the for loop\n",
    "  # explicitly\n",
    "  #\n",
    "  \n",
    "  # Using sapply and an anonymous function to compute the vector of squares\n",
    "  vector_of_squares <- sapply(x, function(x) x^2)\n",
    "  \n",
    "  # Obtaining the dot product\n",
    "  dot_product <- sum(vector_of_squares)\n",
    "  \n",
    "  # Obtaining the final vector length\n",
    "  vector_length <- sqrt(dot_product)\n",
    "  \n",
    "  return(vector_length)\n",
    "}\n",
    "vector_length_d <- function(x) {\n",
    "  \n",
    "  #\n",
    "  # This function uses the operator for matrix multiplication in R\n",
    "  #\n",
    "  \n",
    "  dot_product <- x%*%x\n",
    "  vector_length <- sqrt(dot_product[1,1])\n",
    "  \n",
    "  return(vector_length)\n",
    "}\n",
    "vector_length_e <- function(x) {\n",
    "  \n",
    "  #\n",
    "  # This function uses element wise multiplication\n",
    "  #\n",
    "  \n",
    "  dot_product <- sum(x*x)\n",
    "  vector_length <- sqrt(dot_product)\n",
    "  \n",
    "  return(vector_length)\n",
    "}"
   ]
  },
  {
   "cell_type": "code",
   "execution_count": 36,
   "metadata": {},
   "outputs": [
    {
     "data": {
      "text/html": [
       "25.5147016443461"
      ],
      "text/latex": [
       "25.5147016443461"
      ],
      "text/markdown": [
       "25.5147016443461"
      ],
      "text/plain": [
       "[1] 25.5147"
      ]
     },
     "metadata": {},
     "output_type": "display_data"
    },
    {
     "data": {
      "text/html": [
       "25.5147016443461"
      ],
      "text/latex": [
       "25.5147016443461"
      ],
      "text/markdown": [
       "25.5147016443461"
      ],
      "text/plain": [
       "[1] 25.5147"
      ]
     },
     "metadata": {},
     "output_type": "display_data"
    },
    {
     "data": {
      "text/html": [
       "25.5147016443461"
      ],
      "text/latex": [
       "25.5147016443461"
      ],
      "text/markdown": [
       "25.5147016443461"
      ],
      "text/plain": [
       "[1] 25.5147"
      ]
     },
     "metadata": {},
     "output_type": "display_data"
    },
    {
     "data": {
      "text/html": [
       "25.5147016443461"
      ],
      "text/latex": [
       "25.5147016443461"
      ],
      "text/markdown": [
       "25.5147016443461"
      ],
      "text/plain": [
       "[1] 25.5147"
      ]
     },
     "metadata": {},
     "output_type": "display_data"
    },
    {
     "data": {
      "text/html": [
       "25.5147016443461"
      ],
      "text/latex": [
       "25.5147016443461"
      ],
      "text/markdown": [
       "25.5147016443461"
      ],
      "text/plain": [
       "[1] 25.5147"
      ]
     },
     "metadata": {},
     "output_type": "display_data"
    }
   ],
   "source": [
    "# Check whether all functions return the same outcome:\n",
    "\n",
    "some_example_vector <- c(1,7,24,5)\n",
    "\n",
    "\n",
    "vector_length_a(some_example_vector)\n",
    "vector_length_b(some_example_vector)\n",
    "vector_length_c(some_example_vector)\n",
    "vector_length_d(some_example_vector)\n",
    "vector_length_e(some_example_vector)"
   ]
  },
  {
   "cell_type": "code",
   "execution_count": 37,
   "metadata": {
    "slideshow": {
     "slide_type": "slide"
    }
   },
   "outputs": [],
   "source": [
    "# Some arbitrary vector with 10000 elements of which we will determine the length\n",
    "x <- 42:10041\n",
    "\n",
    "# Number of repetitions when timing the code (time in individual repetitions fluctuates a lot)\n",
    "n <- 10"
   ]
  },
  {
   "cell_type": "code",
   "execution_count": 38,
   "metadata": {
    "slideshow": {
     "slide_type": "slide"
    }
   },
   "outputs": [
    {
     "data": {
      "text/plain": [
       "   user  system elapsed \n",
       "   0.01    0.00    0.01 "
      ]
     },
     "metadata": {},
     "output_type": "display_data"
    },
    {
     "data": {
      "text/plain": [
       "   user  system elapsed \n",
       "   2.52    0.07    2.63 "
      ]
     },
     "metadata": {},
     "output_type": "display_data"
    },
    {
     "data": {
      "text/plain": [
       "   user  system elapsed \n",
       "   2.36    0.05    2.41 "
      ]
     },
     "metadata": {},
     "output_type": "display_data"
    },
    {
     "data": {
      "text/plain": [
       "   user  system elapsed \n",
       "   0.00    0.01    0.02 "
      ]
     },
     "metadata": {},
     "output_type": "display_data"
    }
   ],
   "source": [
    "# Exercise 3. Time to compute a vector\n",
    "\n",
    "# Computing the outcome with a loop that modifies the vector in the same memory location:\n",
    "system.time(for (i in 1:n) vector_length_a(x))\n",
    "\n",
    "# Computing the outcome with a loop that implictly creates a copy of the vector in each iteration:\n",
    "system.time(for (i in 1:n) vector_length_b(x))\n",
    "\n",
    "# Computing the outcome with an `sapply` function:\n",
    "system.time(for (i in 1:n) vector_length_b(x))\n",
    "\n",
    "# Computing the outcome with vectorised code and a dot product:\n",
    "system.time(for (i in 1:n) vector_length_d(x))"
   ]
  }
 ],
 "metadata": {
  "celltoolbar": "Slideshow",
  "kernelspec": {
   "display_name": "R",
   "language": "R",
   "name": "ir"
  },
  "language_info": {
   "codemirror_mode": "r",
   "file_extension": ".r",
   "mimetype": "text/x-r-source",
   "name": "R",
   "pygments_lexer": "r",
   "version": "3.6.1"
  }
 },
 "nbformat": 4,
 "nbformat_minor": 4
}
