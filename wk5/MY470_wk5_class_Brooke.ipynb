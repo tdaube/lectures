{
 "cells": [
  {
   "cell_type": "markdown",
   "metadata": {
    "slideshow": {
     "slide_type": "slide"
    }
   },
   "source": [
    "### MY470 Computer Programming\n",
    "# Programming in Teams\n",
    "### Week 5 Lab"
   ]
  },
  {
   "cell_type": "markdown",
   "metadata": {
    "slideshow": {
     "slide_type": "slide"
    }
   },
   "source": [
    "## Class on Classes"
   ]
  },
  {
   "cell_type": "code",
   "execution_count": 2,
   "metadata": {
    "slideshow": {
     "slide_type": "-"
    }
   },
   "outputs": [],
   "source": [
    "# 1. Starting a Class\n",
    "\n",
    "class MyClass(object):\n",
    "    \"\"\"DocString to define class\"\"\" \n",
    "    # DocString, not comments. DocStrings are for users, and will travel with the class.\n",
    "    # Information about the implemention (not abstraction) giving concrete meaning to the abstract methods.   \n",
    "    \n",
    "    def __init__(self, list_nums):\n",
    "        # When working out the structure we can originally just leave \"pass\".\n",
    "        pass\n"
   ]
  },
  {
   "cell_type": "markdown",
   "metadata": {
    "slideshow": {
     "slide_type": "slide"
    }
   },
   "source": [
    "### Definitions\n",
    "\n",
    "#### Class\n",
    "A blueprint for a object. This defines a set of **attributes** that will characterise any **object** instantiated from this class.\n",
    "\n",
    "#### Object\n",
    "A **Instance** of a class. This is the \"realised\" (implemented) version of the class.\n",
    "\n",
    "#### Method\n",
    "A special kind of function that is defined in a **class** definition."
   ]
  },
  {
   "cell_type": "code",
   "execution_count": 3,
   "metadata": {
    "slideshow": {
     "slide_type": "slide"
    }
   },
   "outputs": [],
   "source": [
    "# 2. Methods and Special Methods\n",
    "\n",
    "class MyClass(object):\n",
    "    \"\"\"DocString to define class\"\"\" \n",
    "    # DocString, not comments. DocStrings are for users, and will travel with the class.\n",
    "    # Information about the implemention (not abstraction) giving concrete meaning to the abstract methods.   \n",
    "    \n",
    "    # Special Method: Always FIRST\n",
    "    def __init__(self, list_nums): \n",
    "        \"\"\"Creat a new iostance here\"\"\"\n",
    "        # \"__\" is two underscores. \n",
    "        # A constructor method is a special function that creates an instance of the class.\n",
    "        # Any initalising you would like to do with your class object.\n",
    "        # Data attributes are defined here with the \"self.\"\" prefix\n",
    "        self.vals = None\n",
    "        self.list_nums = list_nums\n",
    "        self.combined_nums = [i*vals for i in list_nums]\n",
    "            \n",
    "    def class_methods(self, arg):\n",
    "        # Some methods that do somethings ...\n",
    "        # Self is used to represent the instance of the class. \n",
    "        pass\n",
    "    \n",
    "    # Special Method: Always LAST\n",
    "    def __str__(self): \n",
    "        \"\"\"Returns a string representation of self\"\"\"\n",
    "        # Define here how you want the Class Instance to be returned. \n",
    "        # Otherwise, you will get the location (where the Class Instance is stored)\n",
    "        return self.vals.sort()\n"
   ]
  },
  {
   "cell_type": "code",
   "execution_count": 4,
   "metadata": {
    "slideshow": {
     "slide_type": "slide"
    }
   },
   "outputs": [],
   "source": [
    "# 3. Example Class (Guttag, 2013)\n",
    "\n",
    "class IntList(object):\n",
    "    \"\"\"A IntList is a list of integers\"\"\"\n",
    "    # Infomation about the implementation (not the abstraction)\n",
    "    # The value of the list is represented by a list of ints. self.vals.\n",
    "    \n",
    "    def __init__(self):\n",
    "        \"\"\"Create a empty list of integers\"\"\" \n",
    "        self.vals = []\n",
    "        \n",
    "    def insert(self, e):\n",
    "        \"\"\"Assumes that e is a int and inserts e into self\"\"\"\n",
    "        if e not in self.vals:\n",
    "            self.vals.append(e)\n",
    "            \n",
    "    def member(self, e):\n",
    "        \"\"\"Assumes e is a int and returns True if e is in self, otherwise False\"\"\"\n",
    "        return e in self.vals  \n",
    "    \n",
    "    def remove(self, e):\n",
    "        \"\"\"Assumes e is an int and removes e from self\n",
    "        Raises a ValueError if e is not in self\"\"\"\n",
    "        try:\n",
    "            self.vals.remove(e)\n",
    "        except:\n",
    "            raise ValueError(str(e) + \" Not found\")\n",
    "            \n",
    "    def getMembers(self):\n",
    "        \"\"\"Returns a list containing the elems of self.\n",
    "        Nothing can be assumed about the order of elements\"\"\"\n",
    "        return list(self.vals)\n",
    "            \n",
    "    def __str__(self):\n",
    "        \"\"\"Returns a string representation of self\"\"\"\n",
    "        return str(self.vals)"
   ]
  },
  {
   "cell_type": "code",
   "execution_count": 5,
   "metadata": {
    "slideshow": {
     "slide_type": "slide"
    }
   },
   "outputs": [
    {
     "name": "stdout",
     "output_type": "stream",
     "text": [
      "Is 2 a member: True\n",
      "[2, 0, 1, 3, 4, 5, 6, 7, 8, 9, 10]\n"
     ]
    }
   ],
   "source": [
    "# 4. Creating a Instance of IntList\n",
    "\n",
    "s = IntList()\n",
    "s.insert(2)\n",
    "\n",
    "print(\"Is 2 a member:\", s.member(2))\n",
    "\n",
    "for i in range(0,11):\n",
    "    s.insert(i)\n",
    "    \n",
    "print(s)"
   ]
  },
  {
   "cell_type": "markdown",
   "metadata": {
    "slideshow": {
     "slide_type": "slide"
    }
   },
   "source": [
    "## Recap: Useful Concepts\n",
    "\n",
    "### Iterables\n",
    "When you create a list, you can read its items one by one. Reading its items one by one is called iteration.\n",
    "\n",
    "``` python\n",
    "mylist = [x*x for x in range(3)]\n",
    "for i in mylist:\n",
    "    print(i)\n",
    "```\n",
    "```\n",
    "# Output\n",
    "> 1\n",
    "> 2\n",
    "> 3\n",
    "```\n",
    "\n",
    "mylist is an iterable. When you use a list comprehension, you create a list, and so an iterable.\n",
    "\n",
    "\n",
    "These iterables are handy because you can read them as much as you wish, but you store all the values in memory and this is not always what you want when you have a lot of values.\n",
    "\n",
    "Everything you can use ```\"for... in...\"``` on is an iterable; lists, strings, files..."
   ]
  },
  {
   "cell_type": "markdown",
   "metadata": {
    "slideshow": {
     "slide_type": "slide"
    }
   },
   "source": [
    "## Recap: Useful Concepts\n",
    "[Source](https://stackoverflow.com/questions/231767/what-does-the-yield-keyword-do)\n",
    "\n",
    "### Generators\n",
    "Generators are iterators, a kind of iterable **you can only iterate over once**. Generators do not store all the values in memory, they generate the values on the fly:\n",
    "\n",
    "``` python\n",
    "mygenerator = (x*x for x in range(3))\n",
    "for i in mygenerator:\n",
    "    print(i)\n",
    "```\n",
    "```\n",
    "# Ouput\n",
    "> 0\n",
    "> 1\n",
    "> 4\n",
    "```\n",
    "\n",
    "It is just the same except you used ```()``` instead of ```[]```. BUT, you cannot perform ```for i in mygenerator``` a second time since generators can only be used once: they calculate 0, then forget about it and calculate 1, and end calculating 4, one by one."
   ]
  },
  {
   "cell_type": "markdown",
   "metadata": {
    "slideshow": {
     "slide_type": "slide"
    }
   },
   "source": [
    "### Yield\n",
    "\n",
    "```yield``` is a keyword that is used like ```return```, except the function will return a generator.\n",
    "\n",
    "``` python\n",
    "def createGenerator():\n",
    "    mylist = range(3)\n",
    "    for i in mylist:\n",
    "        yield i*i\n",
    "\n",
    "mygenerator = createGenerator() # create a generator\n",
    "print(mygenerator) # mygenerator is an object!\n",
    "```\n",
    "```\n",
    "# Output\n",
    "<generator object createGenerator at 0xb7555c34>\n",
    "```\n",
    "\n",
    "``` python\n",
    "for i in mygenerator:\n",
    "    print(i)\n",
    "```\n",
    "```\n",
    "# Output\n",
    "> 0\n",
    "> 1\n",
    "> 4\n",
    "```\n",
    "\n",
    "when you call the function, the code you have written in the function body does not run. The function only returns the generator object."
   ]
  },
  {
   "cell_type": "markdown",
   "metadata": {
    "slideshow": {
     "slide_type": "slide"
    }
   },
   "source": [
    "**Then, your code will continue from where it left off each time ```for``` uses the generator.**\n",
    "\n",
    "Another example might be:\n",
    "\n",
    "``` python\n",
    "def my_gen():\n",
    "    n = 1\n",
    "    print('This is printed first')\n",
    "    # Generator function contains yield statements\n",
    "    yield n\n",
    "\n",
    "    n += 1\n",
    "    print('This is printed second')\n",
    "    yield n\n",
    "\n",
    "    n += 1\n",
    "    print('This is printed at last')\n",
    "    yield n\n",
    "```\n",
    "Running the function would look like:\n",
    "\n",
    "``` python\n",
    "# It returns an object but does not start execution immediately.\n",
    "a = my_gen()\n",
    "\n",
    "# We can iterate through the items using next().\n",
    "next(a)\n",
    "> This is printed first\n",
    "> 1\n",
    "\n",
    "# Once the function yields, the function is paused and the control is transferred to the caller.\n",
    "\n",
    "# Local variables and theirs states are remembered between successive calls.\n",
    "next(a)\n",
    "> This is printed second\n",
    "> 2\n",
    "\n",
    "next(a)\n",
    "> This is printed at last\n",
    "> 3\n",
    "\n",
    "# Finally, when the function terminates, StopIteration is raised automatically on further calls.\n",
    "# Generators can only be called once.\n",
    "next(a)\n",
    "\n",
    "Traceback (most recent call last):\n",
    "...\n",
    "StopIteration\n",
    "\n",
    "next(a)\n",
    "Traceback (most recent call last):\n",
    "...\n",
    "StopIteration\n",
    "```"
   ]
  },
  {
   "cell_type": "markdown",
   "metadata": {
    "slideshow": {
     "slide_type": "slide"
    }
   },
   "source": [
    "\n",
    "So ...\n",
    "- The first time the ```for``` calls the generator object created from your function, it will run the code in your function from the beginning until it hits ```yield```, then it'll return the first value of the loop. \n",
    "- Then, each subsequent call will run another iteration of the loop you have written in the function and return the next value. - This will continue until the generator is considered empty, which happens when the function runs without hitting ```yield```. \n",
    "- That can be because the loop has come to an end, or because you no longer satisfy an ```if / else```."
   ]
  },
  {
   "cell_type": "markdown",
   "metadata": {
    "slideshow": {
     "slide_type": "slide"
    }
   },
   "source": [
    "## GitHub as a Collaboration Tool\n",
    "\n",
    "1. Clone repository locally\n",
    "2. Make changes in cloned repository\n",
    "3. Upload new file, **creating a new branch and starting a pull request**"
   ]
  },
  {
   "cell_type": "markdown",
   "metadata": {
    "slideshow": {
     "slide_type": "slide"
    }
   },
   "source": [
    "## Suggested Workflow for Prorgamming in Teams\n",
    "\n",
    "* Use `pass` to outline structure of program\n",
    "* Write class/function specifications\n",
    "* Split the work\n",
    "* Fill in the details\n",
    "* Review each other's code to identify and fix potential problems\n",
    "* Merge\n",
    "* Identify bugs and problems\n",
    "* Repeat 3-7 as necessary"
   ]
  },
  {
   "cell_type": "markdown",
   "metadata": {
    "slideshow": {
     "slide_type": "slide"
    }
   },
   "source": [
    "## Create a New Branch When Uploading Changed File\n",
    "\n",
    "![Create a new branch](figs/branching.png \"Create a new branch\")"
   ]
  },
  {
   "cell_type": "markdown",
   "metadata": {
    "slideshow": {
     "slide_type": "slide"
    }
   },
   "source": [
    "## Open a Pull Request to Get Feedback (Automatically Directed There)\n",
    "\n",
    "![Open a pull request](figs/pull_request.png \"Open a pull request\")"
   ]
  },
  {
   "cell_type": "markdown",
   "metadata": {
    "slideshow": {
     "slide_type": "slide"
    }
   },
   "source": [
    "## You (and Later Your Partner) Can View Your Changes Highlighted\n",
    "\n",
    "![View changes](figs/changes.png \"View changes\")"
   ]
  },
  {
   "cell_type": "markdown",
   "metadata": {
    "slideshow": {
     "slide_type": "slide"
    }
   },
   "source": [
    "## Wait for Comments from Partner Before Merging\n",
    "\n",
    "![Merge after comments](figs/merge.png \"Merge after comments\")"
   ]
  },
  {
   "cell_type": "markdown",
   "metadata": {
    "slideshow": {
     "slide_type": "slide"
    }
   },
   "source": [
    "## Confirm Merge\n",
    "\n",
    "![Confirm merge](figs/confirm_merge.png \"Confirm merge\")"
   ]
  },
  {
   "cell_type": "markdown",
   "metadata": {
    "slideshow": {
     "slide_type": "slide"
    }
   },
   "source": [
    "## Open Issues to Discuss Problems and Ask Partner for Help\n",
    "\n",
    "![Open a new issue](figs/open_issue.png \"Open a new issue\")"
   ]
  },
  {
   "cell_type": "markdown",
   "metadata": {
    "slideshow": {
     "slide_type": "slide"
    }
   },
   "source": [
    "## Open Issues to Discuss Problems and Ask Partner for Help\n",
    "\n",
    "![Submit new issue](figs/submit_issue.png \"Submit new issue\")"
   ]
  },
  {
   "cell_type": "markdown",
   "metadata": {
    "slideshow": {
     "slide_type": "slide"
    }
   },
   "source": [
    "## Discuss\n",
    "\n",
    "![Discuss](figs/discuss.png \"Discuss\")"
   ]
  },
  {
   "cell_type": "code",
   "execution_count": 6,
   "metadata": {
    "slideshow": {
     "slide_type": "slide"
    }
   },
   "outputs": [],
   "source": [
    "# Exercise 1: Work with the person next to you to design \n",
    "# classes to manage the products, customers, and purchase \n",
    "# orders for an online book store such as amazon.com. \n",
    "# Outline the data attributes and useful methods for \n",
    "# each class. You can discuss and create the outline together. \n",
    "\n"
   ]
  },
  {
   "cell_type": "code",
   "execution_count": 7,
   "metadata": {
    "slideshow": {
     "slide_type": "-"
    }
   },
   "outputs": [],
   "source": [
    "# Exercise 2: Create a new repository in your account and upload \n",
    "# the class hierarchy you created. Practice cloning locally, \n",
    "# making changes, and uploading the changed file to your remote \n",
    "# repository by creating a branch and opening a pull request. \n",
    "# (Note that in order for others to be able to upload files \n",
    "# to your repository, you need to grant them push access.)\n",
    "\n"
   ]
  },
  {
   "cell_type": "code",
   "execution_count": 8,
   "metadata": {
    "slideshow": {
     "slide_type": "-"
    }
   },
   "outputs": [],
   "source": [
    "# Exercise 3: Open a new issue in your partner's repository. \n",
    "# (Note that you don't need push access to open issues.)\n",
    "\n"
   ]
  }
 ],
 "metadata": {
  "celltoolbar": "Slideshow",
  "kernelspec": {
   "display_name": "Python 3",
   "language": "python",
   "name": "python3"
  },
  "language_info": {
   "codemirror_mode": {
    "name": "ipython",
    "version": 3
   },
   "file_extension": ".py",
   "mimetype": "text/x-python",
   "name": "python",
   "nbconvert_exporter": "python",
   "pygments_lexer": "ipython3",
   "version": "3.8.5"
  }
 },
 "nbformat": 4,
 "nbformat_minor": 2
}
